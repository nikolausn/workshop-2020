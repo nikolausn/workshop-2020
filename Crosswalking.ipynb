{
 "cells": [
  {
   "cell_type": "code",
   "execution_count": 1,
   "metadata": {},
   "outputs": [
    {
     "name": "stdout",
     "output_type": "stream",
     "text": [
      "Requirement already satisfied: xmltodict in /Volumes/HD-500GB/Users/nikolausn/Applications/anaconda3/lib/python3.7/site-packages (0.12.0)\r\n"
     ]
    }
   ],
   "source": [
    "!pip install xmltodict"
   ]
  },
  {
   "cell_type": "code",
   "execution_count": 2,
   "metadata": {},
   "outputs": [],
   "source": [
    "import xmltodict"
   ]
  },
  {
   "cell_type": "code",
   "execution_count": 3,
   "metadata": {},
   "outputs": [],
   "source": [
    "with open('./PREMISAssignmentTemplate_a1_Parulian.xml') as fd:\n",
    "    doc = xmltodict.parse(fd.read())"
   ]
  },
  {
   "cell_type": "code",
   "execution_count": 4,
   "metadata": {},
   "outputs": [
    {
     "data": {
      "text/plain": [
       "odict_keys(['PREMIS:premis'])"
      ]
     },
     "execution_count": 4,
     "metadata": {},
     "output_type": "execute_result"
    }
   ],
   "source": [
    "doc.keys()"
   ]
  },
  {
   "cell_type": "code",
   "execution_count": 5,
   "metadata": {},
   "outputs": [
    {
     "data": {
      "text/plain": [
       "odict_values([OrderedDict([('@xmlns:PREMIS', 'http://www.loc.gov/premis/v3'), ('@xmlns:xsi', 'http://www.w3.org/2001/XMLSchema-instance'), ('@xsi:schemaLocation', 'http://www.loc.gov/premis/v3 https://www.loc.gov/standards/premis/premis.xsd'), ('@version', '3.0'), ('PREMIS:object', [OrderedDict([('@xsi:type', 'PREMIS:intellectualEntity'), ('PREMIS:objectIdentifier', OrderedDict([('PREMIS:objectIdentifierType', 'local'), ('PREMIS:objectIdentifierValue', 'Seikilos Stele Collection')])), ('PREMIS:significantProperties', [OrderedDict([('PREMIS:significantPropertiesType', 'content'), ('PREMIS:significantPropertiesValue', 'a composition of musical work from a physical tombstone from 2nd century AD')]), OrderedDict([('PREMIS:significantPropertiesType', 'description'), ('PREMIS:significantPropertiesValue', 'work of Seikilos that manifested as music composition and digital image of the stone')]), OrderedDict([('PREMIS:significantPropertiesType', 'description'), ('PREMIS:significantPropertiesValue', 'This is a collection of work by Seikilos (a person) possibly dedicated to wife to function as her tombstone with notation \\n                written on the physical object')])]), ('PREMIS:relationship', [OrderedDict([('PREMIS:relationshipType', 'structural'), ('PREMIS:relationshipSubType', 'isRepresentedBy'), ('PREMIS:relatedObjectIdentifier', OrderedDict([('PREMIS:relatedObjectIdentifierType', 'National Museum, Denmark Inventory Number'), ('PREMIS:relatedObjectIdentifierValue', '14897')]))]), OrderedDict([('PREMIS:relationshipType', 'structural'), ('PREMIS:relationshipSubType', 'isRepresentedBy'), ('PREMIS:relatedObjectIdentifier', OrderedDict([('PREMIS:relatedObjectIdentifierType', 'National Museum, Denmark Inventory Number'), ('PREMIS:relatedObjectIdentifierValue', '14897')]))]), OrderedDict([('PREMIS:relationshipType', 'structural'), ('PREMIS:relationshipSubType', 'isRepresentedBy'), ('PREMIS:relatedObjectIdentifier', OrderedDict([('PREMIS:relatedObjectIdentifierType', 'National Museum of Denmark Digital Collections File Identifier'), ('PREMIS:relatedObjectIdentifierValue', '28501')]))]), OrderedDict([('PREMIS:relationshipType', 'structural'), ('PREMIS:relationshipSubType', 'isRepresentedBy'), ('PREMIS:relatedObjectIdentifier', OrderedDict([('PREMIS:relatedObjectIdentifierType', 'ASIN'), ('PREMIS:relatedObjectIdentifierValue', 'B00C3AFSMK')]))])])]), OrderedDict([('@xsi:type', 'PREMIS:representation'), ('PREMIS:objectIdentifier', OrderedDict([('PREMIS:objectIdentifierType', 'National Museum of Denmark Inventory Number'), ('PREMIS:objectIdentifierValue', '14897')])), ('PREMIS:significantProperties', [OrderedDict([('PREMIS:significantPropertiesType', 'content'), ('PREMIS:significantPropertiesValue', 'text in greek (lyrics), and old music notation')]), OrderedDict([('PREMIS:significantPropertiesType', 'appearance'), ('PREMIS:significantPropertiesValue', 'tombstone')]), OrderedDict([('PREMIS:significantPropertiesType', 'shape'), ('PREMIS:significantPropertiesValue', 'cylinder')])]), ('PREMIS:originalName', 'Seikilos Epitaph'), ('PREMIS:storage', OrderedDict([('PREMIS:contentLocation', OrderedDict([('PREMIS:contentLocationType', 'pyhsical storage location'), ('PREMIS:contentLocationValue', 'National Museum of Denmark')]))])), ('PREMIS:relationship', OrderedDict([('PREMIS:relationshipType', 'structural'), ('PREMIS:relationshipSubType', 'represents'), ('PREMIS:relatedObjectIdentifier', OrderedDict([('PREMIS:relatedObjectIdentifierType', 'local'), ('PREMIS:relatedObjectIdentifierValue', 'Seikolos Stele Collection')]))]))]), OrderedDict([('@xsi:type', 'PREMIS:representation'), ('PREMIS:objectIdentifier', [OrderedDict([('PREMIS:objectIdentifierType', 'National Museum of Denmark Digital Collections File Identifier'), ('PREMIS:objectIdentifierValue', '28501')]), OrderedDict([('PREMIS:objectIdentifierType', 'URL'), ('PREMIS:objectIdentifierValue', 'https://samlinger.natmus.dk/AS/asset/28501')])]), ('PREMIS:relationship', OrderedDict([('PREMIS:relationshipType', 'structural'), ('PREMIS:relationshipSubType', 'represents'), ('PREMIS:relatedObjectIdentifier', OrderedDict([('PREMIS:relatedObjectIdentifierType', 'National Museum of Denmark Inventory Number'), ('PREMIS:relatedObjectIdentifierValue', '14897')]))]))]), OrderedDict([('@xsi:type', 'PREMIS:file'), ('PREMIS:objectIdentifier', [OrderedDict([('PREMIS:objectIdentifierType', 'URL'), ('PREMIS:objectIdentifierValue', 'http://cumulus.natmus.dk/CIP/asset/download/AS/28501')]), OrderedDict([('PREMIS:objectIdentifierType', 'local'), ('PREMIS:objectIdentifierValue', 'Seikilos-stelen.tif')])]), ('PREMIS:objectCharacteristics', OrderedDict([('PREMIS:fixity', OrderedDict([('PREMIS:messageDigestAlgorithm', 'md5'), ('PREMIS:messageDigest', 'd38851e551efdaa490a9ff6523c2ad40'), ('PREMIS:messageDigestOriginator', 'md5-terminal')])), ('PREMIS:size', '13339968'), ('PREMIS:format', OrderedDict([('PREMIS:formatDesignation', OrderedDict([('PREMIS:formatName', 'TIFF')])), ('PREMIS:formatRegistry', OrderedDict([('PREMIS:formatRegistryName', 'PRONOM'), ('PREMIS:formatRegistryKey', 'fmt/881')]))]))])), ('PREMIS:relationship', [OrderedDict([('PREMIS:relationshipType', 'structural'), ('PREMIS:relationshipSubType', 'is included in'), ('PREMIS:relatedObjectIdentifier', OrderedDict([('PREMIS:relatedObjectIdentifierType', 'National Museum of Denmark Digital Collections File Identifier'), ('PREMIS:relatedObjectIdentifierValue', '28501')]))]), OrderedDict([('PREMIS:relationshipType', 'structural'), ('PREMIS:relationshipSubType', 'requires'), ('PREMIS:relatedObjectIdentifier', OrderedDict([('PREMIS:relatedObjectIdentifierType', 'LCNAF'), ('PREMIS:relatedObjectIdentifierValue', 'no2009043824')]))])])]), OrderedDict([('@xsi:type', 'PREMIS:representation'), ('PREMIS:objectIdentifier', OrderedDict([('PREMIS:objectIdentifierType', 'ASIN'), ('PREMIS:objectIdentifierValue', 'B00C3AFSMK')])), ('PREMIS:relationship', OrderedDict([('PREMIS:relationshipType', 'structural'), ('PREMIS:relationshipSubType', 'represents'), ('PREMIS:relatedObjectIdentifier', OrderedDict([('PREMIS:relatedObjectIdentifierType', 'National Museum of Denmark Inventory Number'), ('PREMIS:relatedObjectIdentifierValue', '14897')]))]))]), OrderedDict([('@xsi:type', 'PREMIS:file'), ('PREMIS:objectIdentifier', OrderedDict([('PREMIS:objectIdentifierType', 'local'), ('PREMIS:objectIdentifierValue', 'seikilos.wav')])), ('PREMIS:objectCharacteristics', OrderedDict([('PREMIS:fixity', [OrderedDict([('PREMIS:messageDigestAlgorithm', 'md5'), ('PREMIS:messageDigest', '4860be35485ea3fbc545d9f7483f1502'), ('PREMIS:messageDigestOriginator', 'md5-terminal')]), OrderedDict([('PREMIS:messageDigestAlgorithm', 'md5'), ('PREMIS:messageDigest', '8ABD7C1F3953F6A6EDA1D3BFCDC8729A'), ('PREMIS:messageDigestOriginator', 'https://mediaarea.net/BWFMetaEdit')])]), ('PREMIS:size', '34930732'), ('PREMIS:format', OrderedDict([('PREMIS:formatDesignation', OrderedDict([('PREMIS:formatName', 'WAV')])), ('PREMIS:formatRegistry', OrderedDict([('PREMIS:formatRegistryName', 'PRONOM'), ('PREMIS:formatRegistryKey', 'fmt/6')]))]))])), ('PREMIS:relationship', [OrderedDict([('PREMIS:relationshipType', 'structural'), ('PREMIS:relationshipSubType', 'represents'), ('PREMIS:relatedObjectIdentifier', OrderedDict([('PREMIS:relatedObjectIdentifierType', 'National Museum of Denmark Inventory Number'), ('PREMIS:relatedObjectIdentifierValue', '14897')]))]), OrderedDict([('PREMIS:relationshipType', 'structural'), ('PREMIS:relationshipSubType', 'is included in'), ('PREMIS:relatedObjectIdentifier', OrderedDict([('PREMIS:relatedObjectIdentifierType', 'ASIN'), ('PREMIS:relatedObjectIdentifierValue', 'B00C3AFSMK')]))]), OrderedDict([('PREMIS:relationshipType', 'structural'), ('PREMIS:relationshipSubType', 'requires'), ('PREMIS:relatedObjectIdentifier', OrderedDict([('PREMIS:relatedObjectIdentifierType', 'LCNAF'), ('PREMIS:relatedObjectIdentifierValue', 'n2002066377')]))])])]), OrderedDict([('@xsi:type', 'PREMIS:intellectualEntity'), ('PREMIS:objectIdentifier', OrderedDict([('PREMIS:objectIdentifierType', 'Apple Model Number'), ('PREMIS:objectIdentifierValue', 'A1706')])), ('PREMIS:originalName', 'MacBook Pro 13-inch, 2017'), ('PREMIS:environmentFunction', OrderedDict([('PREMIS:environmentFunctionType', 'hardware'), ('PREMIS:environmentFunctionLevel', '1')]))]), OrderedDict([('@xsi:type', 'PREMIS:intellectualEntity'), ('PREMIS:objectIdentifier', OrderedDict([('PREMIS:objectIdentifierType', 'LCNAF'), ('PREMIS:objectIdentifierValue', 'n96060065')])), ('PREMIS:originalName', 'MacOS'), ('PREMIS:environmentFunction', [OrderedDict([('PREMIS:environmentFunctionType', '1'), ('PREMIS:environmentFunctionLevel', 'software')]), OrderedDict([('PREMIS:environmentFunctionType', '2'), ('PREMIS:environmentFunctionLevel', 'operating system')])]), ('PREMIS:relationship', OrderedDict([('PREMIS:relationshipType', 'structural'), ('PREMIS:relationshipSubType', 'requires'), ('PREMIS:relatedObjectIdentifier', OrderedDict([('PREMIS:relatedObjectIdentifierType', 'Apple Model Number'), ('PREMIS:relatedObjectIdentifierValue', 'A1706')]))])), ('PREMIS:linkingRightsStatementIdentifier', OrderedDict([('PREMIS:linkingRightsStatementIdentifierType', 'URL'), ('PREMIS:linkingRightsStatementIdentifierValue', 'https://www.apple.com/legal/sla/docs/macOSCatalina.pdf')]))]), OrderedDict([('@xsi:type', 'PREMIS:intellectualEntity'), ('PREMIS:objectIdentifier', OrderedDict([('PREMIS:objectIdentifierType', 'LCNAF'), ('PREMIS:objectIdentifierValue', 'no2009043824')])), ('PREMIS:originalName', 'Google Chrome'), ('PREMIS:environmentFunction', [OrderedDict([('PREMIS:environmentFunctionType', '1'), ('PREMIS:environmentFunctionLevel', 'software')]), OrderedDict([('PREMIS:environmentFunctionType', '2'), ('PREMIS:environmentFunctionLevel', 'software application')])]), ('PREMIS:relationship', OrderedDict([('PREMIS:relationshipType', 'structural'), ('PREMIS:relationshipSubType', 'requires'), ('PREMIS:relatedObjectIdentifier', OrderedDict([('PREMIS:relatedObjectIdentifierType', 'LCNAF'), ('PREMIS:relatedObjectIdentifierValue', 'n96060065')]))])), ('PREMIS:linkingRightsStatementIdentifier', OrderedDict([('PREMIS:linkingRightsStatementIdentifierType', 'URL'), ('PREMIS:linkingRightsStatementIdentifierValue', 'https://www.google.com/intl/en_sg/chrome/privacy/eula_text.html')]))]), OrderedDict([('@xsi:type', 'PREMIS:intellectualEntity'), ('PREMIS:objectIdentifier', OrderedDict([('PREMIS:objectIdentifierType', 'LCNAF'), ('PREMIS:objectIdentifierValue', 'n2002066377')])), ('PREMIS:originalName', 'Itunes'), ('PREMIS:environmentFunction', [OrderedDict([('PREMIS:environmentFunctionType', '1'), ('PREMIS:environmentFunctionLevel', 'software')]), OrderedDict([('PREMIS:environmentFunctionType', '2'), ('PREMIS:environmentFunctionLevel', 'software application')])]), ('PREMIS:relationship', OrderedDict([('PREMIS:relationshipType', 'structural'), ('PREMIS:relationshipSubType', 'requires'), ('PREMIS:relatedObjectIdentifier', OrderedDict([('PREMIS:relatedObjectIdentifierType', 'LCNAF'), ('PREMIS:relatedObjectIdentifierValue', 'n96060065')]))])), ('PREMIS:linkingRightsStatementIdentifier', OrderedDict([('PREMIS:linkingRightsStatementIdentifierType', 'URL'), ('PREMIS:linkingRightsStatementIdentifierValue', 'https://www.apple.com/legal/sla/docs/iTunes.pdf')]))]), OrderedDict([('@xsi:type', 'PREMIS:intellectualEntity'), ('PREMIS:objectIdentifier', OrderedDict([('PREMIS:objectIdentifierType', 'URL'), ('PREMIS:objectIdentifierValue', 'https://mediaarea.net/BWFMetaEdit')])), ('PREMIS:originalName', 'BWF Metaedit'), ('PREMIS:environmentFunction', [OrderedDict([('PREMIS:environmentFunctionType', '1'), ('PREMIS:environmentFunctionLevel', 'software')]), OrderedDict([('PREMIS:environmentFunctionType', '2'), ('PREMIS:environmentFunctionLevel', 'software application')])]), ('PREMIS:relationship', OrderedDict([('PREMIS:relationshipType', 'structural'), ('PREMIS:relationshipSubType', 'requires'), ('PREMIS:relatedObjectIdentifier', OrderedDict([('PREMIS:relatedObjectIdentifierType', 'LCNAF'), ('PREMIS:relatedObjectIdentifierValue', 'n96060065')]))])), ('PREMIS:linkingEventIdentifier', OrderedDict([('PREMIS:linkingEventIdentifierType', 'local'), ('PREMIS:linkingEventIdentifierValue', 'event_checksum_seikilos_wav_bwf')])), ('PREMIS:linkingRightsStatementIdentifier', OrderedDict([('PREMIS:linkingRightsStatementIdentifierType', 'URL'), ('PREMIS:linkingRightsStatementIdentifierValue', 'https://mediaarea.net/BWFMetaEdit/License')]))])]), ('PREMIS:event', [OrderedDict([('PREMIS:eventIdentifier', OrderedDict([('PREMIS:eventIdentifierType', 'local'), ('PREMIS:eventIdentifierValue', 'event_creation_seikilos_stone')])), ('PREMIS:eventType', 'creation'), ('PREMIS:eventDateTime', '1st Century AD'), ('PREMIS:eventOutcomeInformation', OrderedDict([('PREMIS:eventOutcome', '00')])), ('PREMIS:linkingAgentIdentifier', OrderedDict([('PREMIS:linkingAgentIdentifierType', 'VIAF'), ('PREMIS:linkingAgentIdentifierValue', '54482996'), ('PREMIS:linkingAgentRole', 'implementer')])), ('PREMIS:linkingObjectIdentifier', OrderedDict([('PREMIS:linkingObjectIdentifierType', 'National Museum, Denmark Inventory Number'), ('PREMIS:linkingObjectIdentifierValue', '14897')]))]), OrderedDict([('PREMIS:eventIdentifier', OrderedDict([('PREMIS:eventIdentifierType', 'local'), ('PREMIS:eventIdentifierValue', 'event_creation_seikilos_image')])), ('PREMIS:eventType', 'creation'), ('PREMIS:eventDateTime', 'October 16, 2019'), ('PREMIS:eventOutcomeInformation', OrderedDict([('PREMIS:eventOutcome', '00')])), ('PREMIS:linkingAgentIdentifier', OrderedDict([('PREMIS:linkingAgentIdentifierType', 'local'), ('PREMIS:linkingAgentIdentifierValue', 'seikilos-John Lee'), ('PREMIS:linkingAgentRole', 'implementer')])), ('PREMIS:linkingObjectIdentifier', OrderedDict([('PREMIS:linkingObjectIdentifierType', 'National Museum of Denmark Digital Collections File Identifier'), ('PREMIS:linkingObjectIdentifierValue', '28501')]))]), OrderedDict([('PREMIS:eventIdentifier', OrderedDict([('PREMIS:eventIdentifierType', 'local'), ('PREMIS:eventIdentifierValue', 'event_recording_seikilos_music')])), ('PREMIS:eventType', 'creation'), ('PREMIS:eventDateTime', '1979'), ('PREMIS:eventOutcomeInformation', OrderedDict([('PREMIS:eventOutcome', '00')])), ('PREMIS:linkingAgentIdentifier', OrderedDict([('PREMIS:linkingAgentIdentifierType', 'viaf'), ('PREMIS:linkingAgentIdentifierValue', '140846570'), ('PREMIS:linkingAgentRole', 'implementer')])), ('PREMIS:linkingObjectIdentifier', OrderedDict([('PREMIS:linkingObjectIdentifierType', 'National Museum of Denmark Digital Collections File Identifier'), ('PREMIS:linkingObjectIdentifierValue', '10006')]))]), OrderedDict([('PREMIS:eventIdentifier', OrderedDict([('PREMIS:eventIdentifierType', 'local'), ('PREMIS:eventIdentifierValue', 'event_checksum_seikilos_image')])), ('PREMIS:eventType', 'fixity check'), ('PREMIS:eventDateTime', '20 October 2019'), ('PREMIS:eventOutcomeInformation', OrderedDict([('PREMIS:eventOutcome', 'CV-01')])), ('PREMIS:linkingAgentIdentifier', OrderedDict([('PREMIS:linkingAgentIdentifierType', 'orcid'), ('PREMIS:linkingAgentIdentifierValue', '0000-0002-6971-0882'), ('PREMIS:linkingAgentRole', 'validator')])), ('PREMIS:linkingObjectIdentifier', OrderedDict([('PREMIS:linkingObjectIdentifierType', 'National Museum of Denmark Digital Collections File Identifier'), ('PREMIS:linkingObjectIdentifierValue', '28501')]))]), OrderedDict([('PREMIS:eventIdentifier', OrderedDict([('PREMIS:eventIdentifierType', 'local'), ('PREMIS:eventIdentifierValue', 'event_checksum_seikilos_wav_bash')])), ('PREMIS:eventType', 'fixity check'), ('PREMIS:eventDateTime', '20 October 2019'), ('PREMIS:eventOutcomeInformation', OrderedDict([('PREMIS:eventOutcome', 'CV-01')])), ('PREMIS:linkingAgentIdentifier', OrderedDict([('PREMIS:linkingAgentIdentifierType', 'orcid'), ('PREMIS:linkingAgentIdentifierValue', '0000-0001-7329-1863'), ('PREMIS:linkingAgentRole', 'validator')])), ('PREMIS:linkingObjectIdentifier', OrderedDict([('PREMIS:linkingObjectIdentifierType', 'local'), ('PREMIS:linkingObjectIdentifierValue', 'seikilos.wav')]))]), OrderedDict([('PREMIS:eventIdentifier', OrderedDict([('PREMIS:eventIdentifierType', 'local'), ('PREMIS:eventIdentifierValue', 'event_checksum_seikilos_wav_bwf')])), ('PREMIS:eventType', 'fixity check'), ('PREMIS:eventDateTime', '2 November 2019'), ('PREMIS:eventOutcomeInformation', OrderedDict([('PREMIS:eventOutcome', 'CV-01'), ('PREMIS:eventOutcomeDetail', OrderedDict([('PREMIS:eventOutcomeDetailNote', 'Using BWF MetaEdit: 8ABD7C1F3953F6A6EDA1D3BFCDC8729A')]))])), ('PREMIS:linkingAgentIdentifier', OrderedDict([('PREMIS:linkingAgentIdentifierType', 'orcid'), ('PREMIS:linkingAgentIdentifierValue', '0000-0002-6971-0882'), ('PREMIS:linkingAgentRole', 'validator')])), ('PREMIS:linkingObjectIdentifier', OrderedDict([('PREMIS:linkingObjectIdentifierType', 'local'), ('PREMIS:linkingObjectIdentifierValue', 'seikilos.wav')]))])]), ('PREMIS:agent', [OrderedDict([('PREMIS:agentIdentifier', OrderedDict([('PREMIS:agentIdentifierType', 'VIAF'), ('PREMIS:agentIdentifierValue', '54482996')])), ('PREMIS:agentName', 'Seikilos'), ('PREMIS:agentType', 'person'), ('PREMIS:agentVersion', None), ('PREMIS:linkingEventIdentifier', OrderedDict([('PREMIS:linkingEventIdentifierType', 'local'), ('PREMIS:linkingEventIdentifierValue', 'event_creation_seikilos_stone')]))]), OrderedDict([('PREMIS:agentIdentifier', OrderedDict([('PREMIS:agentIdentifierType', 'orcid'), ('PREMIS:agentIdentifierValue', '0000-0002-6971-0882')])), ('PREMIS:linkingEventIdentifier', [OrderedDict([('PREMIS:linkingEventIdentifierType', 'local'), ('PREMIS:linkingEventIdentifierValue', 'event_checksum_seikilos_image')]), OrderedDict([('PREMIS:linkingEventIdentifierType', 'local'), ('PREMIS:linkingEventIdentifierValue', 'event_checksum_seikilos_wav_bwf')])])]), OrderedDict([('PREMIS:agentIdentifier', OrderedDict([('PREMIS:agentIdentifierType', 'orcid'), ('PREMIS:agentIdentifierValue', '0000-0001-7329-1863')])), ('PREMIS:linkingEventIdentifier', OrderedDict([('PREMIS:linkingEventIdentifierType', 'local'), ('PREMIS:linkingEventIdentifierValue', 'event_checksum_seikilos_wav_bash')]))]), OrderedDict([('PREMIS:agentIdentifier', OrderedDict([('PREMIS:agentIdentifierType', 'local'), ('PREMIS:agentIdentifierValue', 'seikilos-John Lee')])), ('PREMIS:agentName', 'John Lee'), ('PREMIS:agentType', 'person'), ('PREMIS:linkingEventIdentifier', OrderedDict([('PREMIS:linkingEventIdentifierType', 'local'), ('PREMIS:linkingEventIdentifierValue', 'event_creation_seikilos_image')])), ('PREMIS:linkingRightsStatementIdentifier', OrderedDict([('PREMIS:linkingRightsStatementIdentifierType', 'URL'), ('PREMIS:linkingRightsStatementIdentifierValue', 'https://creativecommons.org/licenses/by-sa/2.0/')]))]), OrderedDict([('PREMIS:agentIdentifier', OrderedDict([('PREMIS:agentIdentifierType', 'viaf'), ('PREMIS:agentIdentifierValue', '140846570')])), ('PREMIS:agentName', 'Atrium musicae (Madrid)'), ('PREMIS:agentType', 'corporate'), ('PREMIS:linkingEventIdentifier', OrderedDict([('PREMIS:linkingEventIdentifierType', 'local'), ('PREMIS:linkingEventIdentifierValue', 'event_recording_seikilos_music')])), ('PREMIS:linkingRightsStatementIdentifier', OrderedDict([('PREMIS:linkingRightsStatementIdentifierType', 'URL'), ('PREMIS:linkingRightsStatementIdentifierValue', 'https://rightsstatements.org/page/InC/1.0/')]))]), OrderedDict([('PREMIS:agentIdentifier', OrderedDict([('PREMIS:agentIdentifierType', 'LCNAF'), ('PREMIS:agentIdentifierValue', 'n84040978')])), ('PREMIS:agentName', 'Apple Inc.'), ('PREMIS:agentType', 'corporate')]), OrderedDict([('PREMIS:agentIdentifier', OrderedDict([('PREMIS:agentIdentifierType', 'LCNAF'), ('PREMIS:agentIdentifierValue', 'nr2003021731')])), ('PREMIS:agentName', 'Google'), ('PREMIS:agentType', 'corporate')]), OrderedDict([('PREMIS:agentIdentifier', OrderedDict([('PREMIS:agentIdentifierType', 'loal'), ('PREMIS:agentIdentifierValue', 'md5-terminal')])), ('PREMIS:agentName', 'md5'), ('PREMIS:agentType', 'software')]), OrderedDict([('PREMIS:agentIdentifier', OrderedDict([('PREMIS:agentIdentifierType', 'URL'), ('PREMIS:agentIdentifierValue', 'https://mediaarea.net/BWFMetaEdit')])), ('PREMIS:agentName', 'BWFMetaEdit'), ('PREMIS:agentType', 'software')]), OrderedDict([('PREMIS:agentIdentifier', OrderedDict([('PREMIS:agentIdentifierType', 'LCNAF'), ('PREMIS:agentIdentifierValue', 'no2012085732')])), ('PREMIS:agentName', 'Federal Agencies Digital Guidelines Initiative (FADGI)'), ('PREMIS:agentType', 'corporate')])]), ('PREMIS:rights', [OrderedDict([('PREMIS:rightsStatement', OrderedDict([('PREMIS:rightsStatementIdentifier', OrderedDict([('PREMIS:rightsStatementIdentifierType', 'URL'), ('PREMIS:rightsStatementIdentifierValue', 'https://creativecommons.org/licenses/by-sa/2.0/')])), ('PREMIS:rightsBasis', 'license')]))]), OrderedDict([('PREMIS:rightsStatement', OrderedDict([('PREMIS:rightsStatementIdentifier', OrderedDict([('PREMIS:rightsStatementIdentifierType', 'URL'), ('PREMIS:rightsStatementIdentifierValue', 'https://rightsstatements.org/page/InC/1.0/')])), ('PREMIS:rightsBasis', 'copyright')]))]), OrderedDict([('PREMIS:rightsStatement', OrderedDict([('PREMIS:rightsStatementIdentifier', OrderedDict([('PREMIS:rightsStatementIdentifierType', 'URL'), ('PREMIS:rightsStatementIdentifierValue', 'https://www.apple.com/legal/sla/docs/macOSCatalina.pdf')])), ('PREMIS:rightsBasis', 'license'), ('PREMIS:linkingAgentIdentifier', OrderedDict([('PREMIS:linkingAgentIdentifierType', 'LCNAF'), ('PREMIS:linkingAgentIdentifierValue', 'n84040978')]))]))]), OrderedDict([('PREMIS:rightsStatement', OrderedDict([('PREMIS:rightsStatementIdentifier', OrderedDict([('PREMIS:rightsStatementIdentifierType', 'URL'), ('PREMIS:rightsStatementIdentifierValue', 'https://www.google.com/intl/en_sg/chrome/privacy/eula_text.html')])), ('PREMIS:rightsBasis', 'license'), ('PREMIS:linkingAgentIdentifier', OrderedDict([('PREMIS:linkingAgentIdentifierType', 'LCNAF'), ('PREMIS:linkingAgentIdentifierValue', 'nr2003021731')]))]))]), OrderedDict([('PREMIS:rightsStatement', OrderedDict([('PREMIS:rightsStatementIdentifier', OrderedDict([('PREMIS:rightsStatementIdentifierType', 'URL'), ('PREMIS:rightsStatementIdentifierValue', 'https://www.apple.com/legal/sla/docs/iTunes.pdf')])), ('PREMIS:rightsBasis', 'license'), ('PREMIS:linkingAgentIdentifier', OrderedDict([('PREMIS:linkingAgentIdentifierType', 'LCNAF'), ('PREMIS:linkingAgentIdentifierValue', 'n84040978')]))]))]), OrderedDict([('PREMIS:rightsStatement', OrderedDict([('PREMIS:rightsStatementIdentifier', OrderedDict([('PREMIS:rightsStatementIdentifierType', 'URL'), ('PREMIS:rightsStatementIdentifierValue', 'https://mediaarea.net/BWFMetaEdit/License')])), ('PREMIS:rightsBasis', 'license'), ('PREMIS:linkingAgentIdentifier', OrderedDict([('PREMIS:linkingAgentIdentifierType', 'LCNAF'), ('PREMIS:linkingAgentIdentifierValue', 'no2012085732')]))]))])])])])"
      ]
     },
     "execution_count": 5,
     "metadata": {},
     "output_type": "execute_result"
    }
   ],
   "source": [
    "doc.values()"
   ]
  },
  {
   "cell_type": "code",
   "execution_count": 9,
   "metadata": {},
   "outputs": [],
   "source": [
    "# Python code to demonstrate \n",
    "# conversion of nested dictionary \n",
    "# into flattened dictionary \n",
    "  \n",
    "from collections import MutableMapping \n",
    "  \n",
    "# code to convert ini_dict to flattened dictionary \n",
    "# default seperater '_' \n",
    "def convert_flatten(d, parent_key ='', sep ='_|_'): \n",
    "    items = [] \n",
    "    for k, v in d.items(): \n",
    "        new_key = parent_key + sep + k if parent_key else k         \n",
    "  \n",
    "        if isinstance(v, MutableMapping): \n",
    "            items.extend(convert_flatten(v, new_key, sep = sep).items()) \n",
    "        elif isinstance(v, list):\n",
    "            for val in v:\n",
    "                items.extend(convert_flatten(val, new_key, sep = sep).items()) \n",
    "        else: \n",
    "            items.append((tuple(new_key.split(sep)), v)) \n",
    "    return dict(items) "
   ]
  },
  {
   "cell_type": "code",
   "execution_count": 10,
   "metadata": {},
   "outputs": [],
   "source": [
    "doc_flat = convert_flatten(doc)"
   ]
  },
  {
   "cell_type": "code",
   "execution_count": 11,
   "metadata": {},
   "outputs": [
    {
     "data": {
      "text/plain": [
       "{('PREMIS:premis', '@xmlns:PREMIS'): 'http://www.loc.gov/premis/v3',\n",
       " ('PREMIS:premis', '@xmlns:xsi'): 'http://www.w3.org/2001/XMLSchema-instance',\n",
       " ('PREMIS:premis',\n",
       "  '@xsi:schemaLocation'): 'http://www.loc.gov/premis/v3 https://www.loc.gov/standards/premis/premis.xsd',\n",
       " ('PREMIS:premis', '@version'): '3.0',\n",
       " ('PREMIS:premis', 'PREMIS:object', '@xsi:type'): 'PREMIS:intellectualEntity',\n",
       " ('PREMIS:premis',\n",
       "  'PREMIS:object',\n",
       "  'PREMIS:objectIdentifier',\n",
       "  'PREMIS:objectIdentifierType'): 'URL',\n",
       " ('PREMIS:premis',\n",
       "  'PREMIS:object',\n",
       "  'PREMIS:objectIdentifier',\n",
       "  'PREMIS:objectIdentifierValue'): 'https://mediaarea.net/BWFMetaEdit',\n",
       " ('PREMIS:premis',\n",
       "  'PREMIS:object',\n",
       "  'PREMIS:significantProperties',\n",
       "  'PREMIS:significantPropertiesType'): 'shape',\n",
       " ('PREMIS:premis',\n",
       "  'PREMIS:object',\n",
       "  'PREMIS:significantProperties',\n",
       "  'PREMIS:significantPropertiesValue'): 'cylinder',\n",
       " ('PREMIS:premis',\n",
       "  'PREMIS:object',\n",
       "  'PREMIS:relationship',\n",
       "  'PREMIS:relationshipType'): 'structural',\n",
       " ('PREMIS:premis',\n",
       "  'PREMIS:object',\n",
       "  'PREMIS:relationship',\n",
       "  'PREMIS:relationshipSubType'): 'requires',\n",
       " ('PREMIS:premis',\n",
       "  'PREMIS:object',\n",
       "  'PREMIS:relationship',\n",
       "  'PREMIS:relatedObjectIdentifier',\n",
       "  'PREMIS:relatedObjectIdentifierType'): 'LCNAF',\n",
       " ('PREMIS:premis',\n",
       "  'PREMIS:object',\n",
       "  'PREMIS:relationship',\n",
       "  'PREMIS:relatedObjectIdentifier',\n",
       "  'PREMIS:relatedObjectIdentifierValue'): 'n96060065',\n",
       " ('PREMIS:premis', 'PREMIS:object', 'PREMIS:originalName'): 'BWF Metaedit',\n",
       " ('PREMIS:premis',\n",
       "  'PREMIS:object',\n",
       "  'PREMIS:storage',\n",
       "  'PREMIS:contentLocation',\n",
       "  'PREMIS:contentLocationType'): 'pyhsical storage location',\n",
       " ('PREMIS:premis',\n",
       "  'PREMIS:object',\n",
       "  'PREMIS:storage',\n",
       "  'PREMIS:contentLocation',\n",
       "  'PREMIS:contentLocationValue'): 'National Museum of Denmark',\n",
       " ('PREMIS:premis',\n",
       "  'PREMIS:object',\n",
       "  'PREMIS:objectCharacteristics',\n",
       "  'PREMIS:fixity',\n",
       "  'PREMIS:messageDigestAlgorithm'): 'md5',\n",
       " ('PREMIS:premis',\n",
       "  'PREMIS:object',\n",
       "  'PREMIS:objectCharacteristics',\n",
       "  'PREMIS:fixity',\n",
       "  'PREMIS:messageDigest'): '8ABD7C1F3953F6A6EDA1D3BFCDC8729A',\n",
       " ('PREMIS:premis',\n",
       "  'PREMIS:object',\n",
       "  'PREMIS:objectCharacteristics',\n",
       "  'PREMIS:fixity',\n",
       "  'PREMIS:messageDigestOriginator'): 'https://mediaarea.net/BWFMetaEdit',\n",
       " ('PREMIS:premis',\n",
       "  'PREMIS:object',\n",
       "  'PREMIS:objectCharacteristics',\n",
       "  'PREMIS:size'): '34930732',\n",
       " ('PREMIS:premis',\n",
       "  'PREMIS:object',\n",
       "  'PREMIS:objectCharacteristics',\n",
       "  'PREMIS:format',\n",
       "  'PREMIS:formatDesignation',\n",
       "  'PREMIS:formatName'): 'WAV',\n",
       " ('PREMIS:premis',\n",
       "  'PREMIS:object',\n",
       "  'PREMIS:objectCharacteristics',\n",
       "  'PREMIS:format',\n",
       "  'PREMIS:formatRegistry',\n",
       "  'PREMIS:formatRegistryName'): 'PRONOM',\n",
       " ('PREMIS:premis',\n",
       "  'PREMIS:object',\n",
       "  'PREMIS:objectCharacteristics',\n",
       "  'PREMIS:format',\n",
       "  'PREMIS:formatRegistry',\n",
       "  'PREMIS:formatRegistryKey'): 'fmt/6',\n",
       " ('PREMIS:premis',\n",
       "  'PREMIS:object',\n",
       "  'PREMIS:environmentFunction',\n",
       "  'PREMIS:environmentFunctionType'): '2',\n",
       " ('PREMIS:premis',\n",
       "  'PREMIS:object',\n",
       "  'PREMIS:environmentFunction',\n",
       "  'PREMIS:environmentFunctionLevel'): 'software application',\n",
       " ('PREMIS:premis',\n",
       "  'PREMIS:object',\n",
       "  'PREMIS:linkingRightsStatementIdentifier',\n",
       "  'PREMIS:linkingRightsStatementIdentifierType'): 'URL',\n",
       " ('PREMIS:premis',\n",
       "  'PREMIS:object',\n",
       "  'PREMIS:linkingRightsStatementIdentifier',\n",
       "  'PREMIS:linkingRightsStatementIdentifierValue'): 'https://mediaarea.net/BWFMetaEdit/License',\n",
       " ('PREMIS:premis',\n",
       "  'PREMIS:object',\n",
       "  'PREMIS:linkingEventIdentifier',\n",
       "  'PREMIS:linkingEventIdentifierType'): 'local',\n",
       " ('PREMIS:premis',\n",
       "  'PREMIS:object',\n",
       "  'PREMIS:linkingEventIdentifier',\n",
       "  'PREMIS:linkingEventIdentifierValue'): 'event_checksum_seikilos_wav_bwf',\n",
       " ('PREMIS:premis',\n",
       "  'PREMIS:event',\n",
       "  'PREMIS:eventIdentifier',\n",
       "  'PREMIS:eventIdentifierType'): 'local',\n",
       " ('PREMIS:premis',\n",
       "  'PREMIS:event',\n",
       "  'PREMIS:eventIdentifier',\n",
       "  'PREMIS:eventIdentifierValue'): 'event_checksum_seikilos_wav_bwf',\n",
       " ('PREMIS:premis', 'PREMIS:event', 'PREMIS:eventType'): 'fixity check',\n",
       " ('PREMIS:premis', 'PREMIS:event', 'PREMIS:eventDateTime'): '2 November 2019',\n",
       " ('PREMIS:premis',\n",
       "  'PREMIS:event',\n",
       "  'PREMIS:eventOutcomeInformation',\n",
       "  'PREMIS:eventOutcome'): 'CV-01',\n",
       " ('PREMIS:premis',\n",
       "  'PREMIS:event',\n",
       "  'PREMIS:linkingAgentIdentifier',\n",
       "  'PREMIS:linkingAgentIdentifierType'): 'orcid',\n",
       " ('PREMIS:premis',\n",
       "  'PREMIS:event',\n",
       "  'PREMIS:linkingAgentIdentifier',\n",
       "  'PREMIS:linkingAgentIdentifierValue'): '0000-0002-6971-0882',\n",
       " ('PREMIS:premis',\n",
       "  'PREMIS:event',\n",
       "  'PREMIS:linkingAgentIdentifier',\n",
       "  'PREMIS:linkingAgentRole'): 'validator',\n",
       " ('PREMIS:premis',\n",
       "  'PREMIS:event',\n",
       "  'PREMIS:linkingObjectIdentifier',\n",
       "  'PREMIS:linkingObjectIdentifierType'): 'local',\n",
       " ('PREMIS:premis',\n",
       "  'PREMIS:event',\n",
       "  'PREMIS:linkingObjectIdentifier',\n",
       "  'PREMIS:linkingObjectIdentifierValue'): 'seikilos.wav',\n",
       " ('PREMIS:premis',\n",
       "  'PREMIS:event',\n",
       "  'PREMIS:eventOutcomeInformation',\n",
       "  'PREMIS:eventOutcomeDetail',\n",
       "  'PREMIS:eventOutcomeDetailNote'): 'Using BWF MetaEdit: 8ABD7C1F3953F6A6EDA1D3BFCDC8729A',\n",
       " ('PREMIS:premis',\n",
       "  'PREMIS:agent',\n",
       "  'PREMIS:agentIdentifier',\n",
       "  'PREMIS:agentIdentifierType'): 'LCNAF',\n",
       " ('PREMIS:premis',\n",
       "  'PREMIS:agent',\n",
       "  'PREMIS:agentIdentifier',\n",
       "  'PREMIS:agentIdentifierValue'): 'no2012085732',\n",
       " ('PREMIS:premis',\n",
       "  'PREMIS:agent',\n",
       "  'PREMIS:agentName'): 'Federal Agencies Digital Guidelines Initiative (FADGI)',\n",
       " ('PREMIS:premis', 'PREMIS:agent', 'PREMIS:agentType'): 'corporate',\n",
       " ('PREMIS:premis', 'PREMIS:agent', 'PREMIS:agentVersion'): None,\n",
       " ('PREMIS:premis',\n",
       "  'PREMIS:agent',\n",
       "  'PREMIS:linkingEventIdentifier',\n",
       "  'PREMIS:linkingEventIdentifierType'): 'local',\n",
       " ('PREMIS:premis',\n",
       "  'PREMIS:agent',\n",
       "  'PREMIS:linkingEventIdentifier',\n",
       "  'PREMIS:linkingEventIdentifierValue'): 'event_recording_seikilos_music',\n",
       " ('PREMIS:premis',\n",
       "  'PREMIS:agent',\n",
       "  'PREMIS:linkingRightsStatementIdentifier',\n",
       "  'PREMIS:linkingRightsStatementIdentifierType'): 'URL',\n",
       " ('PREMIS:premis',\n",
       "  'PREMIS:agent',\n",
       "  'PREMIS:linkingRightsStatementIdentifier',\n",
       "  'PREMIS:linkingRightsStatementIdentifierValue'): 'https://rightsstatements.org/page/InC/1.0/',\n",
       " ('PREMIS:premis',\n",
       "  'PREMIS:rights',\n",
       "  'PREMIS:rightsStatement',\n",
       "  'PREMIS:rightsStatementIdentifier',\n",
       "  'PREMIS:rightsStatementIdentifierType'): 'URL',\n",
       " ('PREMIS:premis',\n",
       "  'PREMIS:rights',\n",
       "  'PREMIS:rightsStatement',\n",
       "  'PREMIS:rightsStatementIdentifier',\n",
       "  'PREMIS:rightsStatementIdentifierValue'): 'https://mediaarea.net/BWFMetaEdit/License',\n",
       " ('PREMIS:premis',\n",
       "  'PREMIS:rights',\n",
       "  'PREMIS:rightsStatement',\n",
       "  'PREMIS:rightsBasis'): 'license',\n",
       " ('PREMIS:premis',\n",
       "  'PREMIS:rights',\n",
       "  'PREMIS:rightsStatement',\n",
       "  'PREMIS:linkingAgentIdentifier',\n",
       "  'PREMIS:linkingAgentIdentifierType'): 'LCNAF',\n",
       " ('PREMIS:premis',\n",
       "  'PREMIS:rights',\n",
       "  'PREMIS:rightsStatement',\n",
       "  'PREMIS:linkingAgentIdentifier',\n",
       "  'PREMIS:linkingAgentIdentifierValue'): 'no2012085732'}"
      ]
     },
     "execution_count": 11,
     "metadata": {},
     "output_type": "execute_result"
    }
   ],
   "source": [
    "doc_flat"
   ]
  },
  {
   "cell_type": "markdown",
   "metadata": {},
   "source": [
    "## Crosswalking"
   ]
  },
  {
   "cell_type": "code",
   "execution_count": 12,
   "metadata": {},
   "outputs": [],
   "source": [
    "with open('./assignment2-dcxml.xml') as fd:\n",
    "    doc1 = xmltodict.parse(fd.read())"
   ]
  },
  {
   "cell_type": "code",
   "execution_count": 13,
   "metadata": {},
   "outputs": [],
   "source": [
    "with open('./assignment2-premisxml.xml') as fd:\n",
    "    doc2 = xmltodict.parse(fd.read())"
   ]
  },
  {
   "cell_type": "code",
   "execution_count": 14,
   "metadata": {},
   "outputs": [],
   "source": [
    "doc1_flat = convert_flatten(doc1)"
   ]
  },
  {
   "cell_type": "code",
   "execution_count": 15,
   "metadata": {},
   "outputs": [
    {
     "data": {
      "text/plain": [
       "{('simpledc', '@xmlns:xsi'): 'http://www.w3.org/2001/XMLSchema-instance',\n",
       " ('simpledc',\n",
       "  '@xsi:noNamespaceSchemaLocation'): 'https://www.dublincore.org/schemas/xmls/qdc/2008/02/11/simpledc.xsd',\n",
       " ('simpledc', 'identifier', '@xmlns'): 'http://purl.org/dc/elements/1.1/',\n",
       " ('simpledc', 'identifier', '#text'): '779',\n",
       " ('simpledc', 'title', '@xmlns'): 'http://purl.org/dc/elements/1.1/',\n",
       " ('simpledc', 'title', '#text'): 'DITE LA JOCONDE',\n",
       " ('simpledc', 'type', '@xmlns'): 'http://purl.org/dc/elements/1.1/',\n",
       " ('simpledc', 'type', '#text'): 'painting',\n",
       " ('simpledc', 'format', '@xmlns'): 'http://purl.org/dc/elements/1.1/',\n",
       " ('simpledc', 'format', '#text'): '77 cm',\n",
       " ('simpledc', 'publisher', '@xmlns'): 'http://purl.org/dc/elements/1.1/',\n",
       " ('simpledc', 'publisher', '#text'): 'Louvre Museum',\n",
       " ('simpledc', 'subject', '@xmlns'): 'http://purl.org/dc/elements/1.1/',\n",
       " ('simpledc', 'subject', '#text'): 'Lisa Gherardini',\n",
       " ('simpledc', 'coverage', '@xmlns'): 'http://purl.org/dc/elements/1.1/',\n",
       " ('simpledc', 'coverage', '#text'): 'Louvre Museum, Paris, France',\n",
       " ('simpledc', 'creator', '@xmlns'): 'http://purl.org/dc/elements/1.1/',\n",
       " ('simpledc', 'creator', '#text'): 'Leonardo da Vinci',\n",
       " ('simpledc', 'date', '@xmlns'): 'http://purl.org/dc/elements/1.1/',\n",
       " ('simpledc', 'date', '#text'): '1503-1506',\n",
       " ('simpledc', 'rights', '@xmlns'): 'http://purl.org/dc/elements/1.1/',\n",
       " ('simpledc', 'rights', '#text'): 'Louvre Museum',\n",
       " ('simpledc', 'description', '@xmlns'): 'http://purl.org/dc/elements/1.1/',\n",
       " ('simpledc',\n",
       "  'description',\n",
       "  '#text'): \"Portrait of Mona Lisa (1479-1528), also known as La Gioconda, the wife of Francesco del Giocondo, Lisa Gherardini; 1503-06 (150 Kb); Oil on wood, 77 x 53 cm (30 x 20 7/8 in); acquired by Musee du Louvre, Paris on 1707.This figure of a woman, dressed in the Florentine fashion of her day and seated in a visionary, mountainous landscape, is a remarkable instance of Leonardo's sfumato technique of soft, heavily shaded modeling. The Mona Lisa's enigmatic expression, which seems both alluring and aloof, has given the portrait universal fame.\"}"
      ]
     },
     "execution_count": 15,
     "metadata": {},
     "output_type": "execute_result"
    }
   ],
   "source": [
    "doc1_flat"
   ]
  },
  {
   "cell_type": "code",
   "execution_count": 16,
   "metadata": {},
   "outputs": [],
   "source": [
    "doc2_flat = convert_flatten(doc2)"
   ]
  },
  {
   "cell_type": "code",
   "execution_count": 17,
   "metadata": {},
   "outputs": [
    {
     "data": {
      "text/plain": [
       "{('PREMIS:premis', '@xmlns:PREMIS'): 'http://www.loc.gov/premis/v3',\n",
       " ('PREMIS:premis', '@xmlns:xsi'): 'http://www.w3.org/2001/XMLSchema-instance',\n",
       " ('PREMIS:premis',\n",
       "  '@xsi:schemaLocation'): 'http://www.loc.gov/premis/v3 https://www.loc.gov/standards/premis/premis.xsd',\n",
       " ('PREMIS:premis', '@version'): '3.0',\n",
       " ('PREMIS:premis', 'PREMIS:object', '@xsi:type'): 'PREMIS:representation',\n",
       " ('PREMIS:premis',\n",
       "  'PREMIS:object',\n",
       "  'PREMIS:objectIdentifier',\n",
       "  'PREMIS:objectIdentifierType'): 'Louvre Museum Item Number',\n",
       " ('PREMIS:premis',\n",
       "  'PREMIS:object',\n",
       "  'PREMIS:objectIdentifier',\n",
       "  'PREMIS:objectIdentifierValue'): '779',\n",
       " ('PREMIS:premis',\n",
       "  'PREMIS:object',\n",
       "  'PREMIS:significantProperties',\n",
       "  'PREMIS:significantPropertiesType'): 'height',\n",
       " ('PREMIS:premis',\n",
       "  'PREMIS:object',\n",
       "  'PREMIS:significantProperties',\n",
       "  'PREMIS:significantPropertiesValue'): '77 cm',\n",
       " ('PREMIS:premis',\n",
       "  'PREMIS:object',\n",
       "  'PREMIS:relationship',\n",
       "  'PREMIS:relationshipType'): 'structural',\n",
       " ('PREMIS:premis',\n",
       "  'PREMIS:object',\n",
       "  'PREMIS:relationship',\n",
       "  'PREMIS:relationshipSubType'): 'represents',\n",
       " ('PREMIS:premis',\n",
       "  'PREMIS:object',\n",
       "  'PREMIS:relationship',\n",
       "  'PREMIS:relatedObjectIdentifier',\n",
       "  'PREMIS:relatedObjectIdentifierType'): 'local',\n",
       " ('PREMIS:premis',\n",
       "  'PREMIS:object',\n",
       "  'PREMIS:relationship',\n",
       "  'PREMIS:relatedObjectIdentifier',\n",
       "  'PREMIS:relatedObjectIdentifierValue'): 'mona_lisa_painting',\n",
       " ('PREMIS:premis',\n",
       "  'PREMIS:object',\n",
       "  'PREMIS:originalName'): 'PORTRAIT DE MONA LISA',\n",
       " ('PREMIS:premis',\n",
       "  'PREMIS:object',\n",
       "  'PREMIS:storage',\n",
       "  'PREMIS:contentLocation',\n",
       "  'PREMIS:contentLocationType'): 'physical storage location',\n",
       " ('PREMIS:premis',\n",
       "  'PREMIS:object',\n",
       "  'PREMIS:storage',\n",
       "  'PREMIS:contentLocation',\n",
       "  'PREMIS:contentLocationValue'): 'Louvre Museum Paris',\n",
       " ('PREMIS:premis',\n",
       "  'PREMIS:object',\n",
       "  'PREMIS:linkingEventIdentifier',\n",
       "  'PREMIS:linkingEventIdentifierType'): 'local',\n",
       " ('PREMIS:premis',\n",
       "  'PREMIS:object',\n",
       "  'PREMIS:linkingEventIdentifier',\n",
       "  'PREMIS:linkingEventIdentifierValue'): 'event_acquisition_monalisa',\n",
       " ('PREMIS:premis',\n",
       "  'PREMIS:event',\n",
       "  'PREMIS:eventIdentifier',\n",
       "  'PREMIS:eventIdentifierType'): 'local',\n",
       " ('PREMIS:premis',\n",
       "  'PREMIS:event',\n",
       "  'PREMIS:eventIdentifier',\n",
       "  'PREMIS:eventIdentifierValue'): 'event_acquisition_monalisa',\n",
       " ('PREMIS:premis', 'PREMIS:event', 'PREMIS:eventType'): 'capture',\n",
       " ('PREMIS:premis', 'PREMIS:event', 'PREMIS:eventDateTime'): '1797',\n",
       " ('PREMIS:premis',\n",
       "  'PREMIS:event',\n",
       "  'PREMIS:eventOutcomeInformation',\n",
       "  'PREMIS:eventOutcome'): '00',\n",
       " ('PREMIS:premis',\n",
       "  'PREMIS:event',\n",
       "  'PREMIS:linkingAgentIdentifier',\n",
       "  'PREMIS:linkingAgentIdentifierType'): 'local',\n",
       " ('PREMIS:premis',\n",
       "  'PREMIS:event',\n",
       "  'PREMIS:linkingAgentIdentifier',\n",
       "  'PREMIS:linkingAgentIdentifierValue'): 'louvre_museum_paris',\n",
       " ('PREMIS:premis',\n",
       "  'PREMIS:event',\n",
       "  'PREMIS:linkingAgentIdentifier',\n",
       "  'PREMIS:linkingAgentRole'): 'implementer',\n",
       " ('PREMIS:premis',\n",
       "  'PREMIS:event',\n",
       "  'PREMIS:linkingObjectIdentifier',\n",
       "  'PREMIS:linkingObjectIdentifierType'): 'Louvre Museum Item Number',\n",
       " ('PREMIS:premis',\n",
       "  'PREMIS:event',\n",
       "  'PREMIS:linkingObjectIdentifier',\n",
       "  'PREMIS:linkingObjectIdentifierValue'): '779',\n",
       " ('PREMIS:premis',\n",
       "  'PREMIS:agent',\n",
       "  'PREMIS:agentIdentifier',\n",
       "  'PREMIS:agentIdentifierType'): 'local',\n",
       " ('PREMIS:premis',\n",
       "  'PREMIS:agent',\n",
       "  'PREMIS:agentIdentifier',\n",
       "  'PREMIS:agentIdentifierValue'): 'louvre_museum_paris',\n",
       " ('PREMIS:premis', 'PREMIS:agent', 'PREMIS:agentName'): 'Louvre Museum Paris',\n",
       " ('PREMIS:premis', 'PREMIS:agent', 'PREMIS:agentType'): 'corporate',\n",
       " ('PREMIS:premis',\n",
       "  'PREMIS:agent',\n",
       "  'PREMIS:linkingEventIdentifier',\n",
       "  'PREMIS:linkingEventIdentifierType'): 'local',\n",
       " ('PREMIS:premis',\n",
       "  'PREMIS:agent',\n",
       "  'PREMIS:linkingEventIdentifier',\n",
       "  'PREMIS:linkingEventIdentifierValue'): 'event_acquisition_monalisa'}"
      ]
     },
     "execution_count": 17,
     "metadata": {},
     "output_type": "execute_result"
    }
   ],
   "source": [
    "doc2_flat"
   ]
  },
  {
   "cell_type": "code",
   "execution_count": 18,
   "metadata": {},
   "outputs": [
    {
     "name": "stdout",
     "output_type": "stream",
     "text": [
      "Requirement already satisfied: whoosh in /Volumes/HD-500GB/Users/nikolausn/Applications/anaconda3/lib/python3.7/site-packages (2.7.4)\r\n"
     ]
    }
   ],
   "source": [
    "!pip install whoosh"
   ]
  },
  {
   "cell_type": "code",
   "execution_count": 19,
   "metadata": {},
   "outputs": [],
   "source": [
    "from whoosh.index import create_in\n",
    "from whoosh.fields import *"
   ]
  },
  {
   "cell_type": "code",
   "execution_count": 20,
   "metadata": {},
   "outputs": [],
   "source": [
    "schema = Schema(title=TEXT(stored=True), path=ID(stored=True), content=TEXT)"
   ]
  },
  {
   "cell_type": "code",
   "execution_count": 21,
   "metadata": {},
   "outputs": [
    {
     "name": "stdout",
     "output_type": "stream",
     "text": [
      "mkdir: indexdir: File exists\r\n"
     ]
    }
   ],
   "source": [
    "!mkdir indexdir"
   ]
  },
  {
   "cell_type": "code",
   "execution_count": 22,
   "metadata": {},
   "outputs": [
    {
     "name": "stdout",
     "output_type": "stream",
     "text": [
      "0 ('PREMIS:premis', '@xmlns:PREMIS') http://www.loc.gov/premis/v3\n",
      "1 ('PREMIS:premis', '@xmlns:xsi') http://www.w3.org/2001/XMLSchema-instance\n",
      "2 ('PREMIS:premis', '@xsi:schemaLocation') http://www.loc.gov/premis/v3 https://www.loc.gov/standards/premis/premis.xsd\n",
      "3 ('PREMIS:premis', '@version') 3.0\n",
      "4 ('PREMIS:premis', 'PREMIS:object', '@xsi:type') PREMIS:representation\n",
      "5 ('PREMIS:premis', 'PREMIS:object', 'PREMIS:objectIdentifier', 'PREMIS:objectIdentifierType') Louvre Museum Item Number\n",
      "6 ('PREMIS:premis', 'PREMIS:object', 'PREMIS:objectIdentifier', 'PREMIS:objectIdentifierValue') 779\n",
      "7 ('PREMIS:premis', 'PREMIS:object', 'PREMIS:significantProperties', 'PREMIS:significantPropertiesType') height\n",
      "8 ('PREMIS:premis', 'PREMIS:object', 'PREMIS:significantProperties', 'PREMIS:significantPropertiesValue') 77 cm\n",
      "9 ('PREMIS:premis', 'PREMIS:object', 'PREMIS:relationship', 'PREMIS:relationshipType') structural\n",
      "10 ('PREMIS:premis', 'PREMIS:object', 'PREMIS:relationship', 'PREMIS:relationshipSubType') represents\n",
      "11 ('PREMIS:premis', 'PREMIS:object', 'PREMIS:relationship', 'PREMIS:relatedObjectIdentifier', 'PREMIS:relatedObjectIdentifierType') local\n",
      "12 ('PREMIS:premis', 'PREMIS:object', 'PREMIS:relationship', 'PREMIS:relatedObjectIdentifier', 'PREMIS:relatedObjectIdentifierValue') mona_lisa_painting\n",
      "13 ('PREMIS:premis', 'PREMIS:object', 'PREMIS:originalName') PORTRAIT DE MONA LISA\n",
      "14 ('PREMIS:premis', 'PREMIS:object', 'PREMIS:storage', 'PREMIS:contentLocation', 'PREMIS:contentLocationType') physical storage location\n",
      "15 ('PREMIS:premis', 'PREMIS:object', 'PREMIS:storage', 'PREMIS:contentLocation', 'PREMIS:contentLocationValue') Louvre Museum Paris\n",
      "16 ('PREMIS:premis', 'PREMIS:object', 'PREMIS:linkingEventIdentifier', 'PREMIS:linkingEventIdentifierType') local\n",
      "17 ('PREMIS:premis', 'PREMIS:object', 'PREMIS:linkingEventIdentifier', 'PREMIS:linkingEventIdentifierValue') event_acquisition_monalisa\n",
      "18 ('PREMIS:premis', 'PREMIS:event', 'PREMIS:eventIdentifier', 'PREMIS:eventIdentifierType') local\n",
      "19 ('PREMIS:premis', 'PREMIS:event', 'PREMIS:eventIdentifier', 'PREMIS:eventIdentifierValue') event_acquisition_monalisa\n",
      "20 ('PREMIS:premis', 'PREMIS:event', 'PREMIS:eventType') capture\n",
      "21 ('PREMIS:premis', 'PREMIS:event', 'PREMIS:eventDateTime') 1797\n",
      "22 ('PREMIS:premis', 'PREMIS:event', 'PREMIS:eventOutcomeInformation', 'PREMIS:eventOutcome') 00\n",
      "23 ('PREMIS:premis', 'PREMIS:event', 'PREMIS:linkingAgentIdentifier', 'PREMIS:linkingAgentIdentifierType') local\n",
      "24 ('PREMIS:premis', 'PREMIS:event', 'PREMIS:linkingAgentIdentifier', 'PREMIS:linkingAgentIdentifierValue') louvre_museum_paris\n",
      "25 ('PREMIS:premis', 'PREMIS:event', 'PREMIS:linkingAgentIdentifier', 'PREMIS:linkingAgentRole') implementer\n",
      "26 ('PREMIS:premis', 'PREMIS:event', 'PREMIS:linkingObjectIdentifier', 'PREMIS:linkingObjectIdentifierType') Louvre Museum Item Number\n",
      "27 ('PREMIS:premis', 'PREMIS:event', 'PREMIS:linkingObjectIdentifier', 'PREMIS:linkingObjectIdentifierValue') 779\n",
      "28 ('PREMIS:premis', 'PREMIS:agent', 'PREMIS:agentIdentifier', 'PREMIS:agentIdentifierType') local\n",
      "29 ('PREMIS:premis', 'PREMIS:agent', 'PREMIS:agentIdentifier', 'PREMIS:agentIdentifierValue') louvre_museum_paris\n",
      "30 ('PREMIS:premis', 'PREMIS:agent', 'PREMIS:agentName') Louvre Museum Paris\n",
      "31 ('PREMIS:premis', 'PREMIS:agent', 'PREMIS:agentType') corporate\n",
      "32 ('PREMIS:premis', 'PREMIS:agent', 'PREMIS:linkingEventIdentifier', 'PREMIS:linkingEventIdentifierType') local\n",
      "33 ('PREMIS:premis', 'PREMIS:agent', 'PREMIS:linkingEventIdentifier', 'PREMIS:linkingEventIdentifierValue') event_acquisition_monalisa\n"
     ]
    }
   ],
   "source": [
    "ix = create_in(\"indexdir\", schema)\n",
    "writer = ix.writer()\n",
    "for i,(k,v) in enumerate(doc2_flat.items()):\n",
    "    print(i,k,v)\n",
    "    writer.add_document(title=k, path=str(i),\n",
    "                     content=v)"
   ]
  },
  {
   "cell_type": "code",
   "execution_count": 23,
   "metadata": {},
   "outputs": [],
   "source": [
    "writer.commit()"
   ]
  },
  {
   "cell_type": "code",
   "execution_count": 24,
   "metadata": {},
   "outputs": [
    {
     "name": "stdout",
     "output_type": "stream",
     "text": [
      "[b'00', b'1797', b'2001', b'3.0', b'77', b'779', b'capture', b'cm', b'corporate', b'de', b'event_acquisition_monalisa', b'height', b'http', b'https', b'implementer', b'instance', b'item', b'lisa', b'local', b'location', b'louvre', b'louvre_museum_paris', b'mona', b'mona_lisa_painting', b'museum', b'number', b'paris', b'physical', b'portrait', b'premis', b'premis.xsd', b'representation', b'represents', b'standards', b'storage', b'structural', b'v3', b'www.loc.gov', b'www.w3.org', b'xmlschema']\n"
     ]
    }
   ],
   "source": [
    "with ix.searcher() as searcher:\n",
    "    print(list(searcher.lexicon(\"content\")))"
   ]
  },
  {
   "cell_type": "code",
   "execution_count": 25,
   "metadata": {},
   "outputs": [
    {
     "name": "stdout",
     "output_type": "stream",
     "text": [
      "[<Hit {'path': '15', 'title': ('PREMIS:premis', 'PREMIS:object', 'PREMIS:storage', 'PREMIS:contentLocation', 'PREMIS:contentLocationValue')}>, <Hit {'path': '30', 'title': ('PREMIS:premis', 'PREMIS:agent', 'PREMIS:agentName')}>]\n"
     ]
    }
   ],
   "source": [
    "from whoosh.qparser import QueryParser\n",
    "\n",
    "qp = QueryParser(\"content\", schema=ix.schema)\n",
    "q = qp.parse(u\"louvre paris\")\n",
    "\n",
    "\n",
    "with ix.searcher() as searcher:\n",
    "    results = searcher.search(q, terms=True)\n",
    "    #results = s.search(\"louvre\", terms=True)\n",
    "    results = results[0:]\n",
    "    print(results)\n",
    "    \"\"\"\n",
    "    query = QueryParser(\"louvre\", ix.schema).parse(\"first\")\n",
    "    print(query)\n",
    "    results = searcher.search(query)\n",
    "    print(results)\n",
    "    \"\"\""
   ]
  },
  {
   "cell_type": "code",
   "execution_count": 26,
   "metadata": {},
   "outputs": [],
   "source": [
    "t = results[0]"
   ]
  },
  {
   "cell_type": "code",
   "execution_count": 27,
   "metadata": {},
   "outputs": [
    {
     "data": {
      "text/plain": [
       "['__class__',\n",
       " '__contains__',\n",
       " '__delattr__',\n",
       " '__delitem__',\n",
       " '__dict__',\n",
       " '__dir__',\n",
       " '__doc__',\n",
       " '__eq__',\n",
       " '__format__',\n",
       " '__ge__',\n",
       " '__getattribute__',\n",
       " '__getitem__',\n",
       " '__gt__',\n",
       " '__hash__',\n",
       " '__init__',\n",
       " '__init_subclass__',\n",
       " '__iter__',\n",
       " '__le__',\n",
       " '__len__',\n",
       " '__lt__',\n",
       " '__module__',\n",
       " '__ne__',\n",
       " '__new__',\n",
       " '__reduce__',\n",
       " '__reduce_ex__',\n",
       " '__repr__',\n",
       " '__setattr__',\n",
       " '__setitem__',\n",
       " '__sizeof__',\n",
       " '__str__',\n",
       " '__subclasshook__',\n",
       " '__weakref__',\n",
       " '_fields',\n",
       " 'clear',\n",
       " 'docnum',\n",
       " 'fields',\n",
       " 'get',\n",
       " 'highlights',\n",
       " 'items',\n",
       " 'iteritems',\n",
       " 'iterkeys',\n",
       " 'itervalues',\n",
       " 'keys',\n",
       " 'matched_terms',\n",
       " 'more_like_this',\n",
       " 'pos',\n",
       " 'rank',\n",
       " 'reader',\n",
       " 'results',\n",
       " 'score',\n",
       " 'searcher',\n",
       " 'update',\n",
       " 'values']"
      ]
     },
     "execution_count": 27,
     "metadata": {},
     "output_type": "execute_result"
    }
   ],
   "source": [
    "dir(t)"
   ]
  },
  {
   "cell_type": "code",
   "execution_count": 28,
   "metadata": {},
   "outputs": [
    {
     "data": {
      "text/plain": [
       "<Top 2 Results for And([Term('content', 'louvre'), Term('content', 'paris')]) runtime=0.5476215840000123>"
      ]
     },
     "execution_count": 28,
     "metadata": {},
     "output_type": "execute_result"
    }
   ],
   "source": [
    "t.results"
   ]
  },
  {
   "cell_type": "code",
   "execution_count": 29,
   "metadata": {},
   "outputs": [
    {
     "data": {
      "text/plain": [
       "0"
      ]
     },
     "execution_count": 29,
     "metadata": {},
     "output_type": "execute_result"
    }
   ],
   "source": [
    "t.rank"
   ]
  },
  {
   "cell_type": "code",
   "execution_count": 30,
   "metadata": {},
   "outputs": [
    {
     "data": {
      "text/plain": [
       "5.187197112322592"
      ]
     },
     "execution_count": 30,
     "metadata": {},
     "output_type": "execute_result"
    }
   ],
   "source": [
    "t.score"
   ]
  },
  {
   "cell_type": "code",
   "execution_count": 31,
   "metadata": {},
   "outputs": [
    {
     "data": {
      "text/plain": [
       "['15',\n",
       " ('PREMIS:premis',\n",
       "  'PREMIS:object',\n",
       "  'PREMIS:storage',\n",
       "  'PREMIS:contentLocation',\n",
       "  'PREMIS:contentLocationValue')]"
      ]
     },
     "execution_count": 31,
     "metadata": {},
     "output_type": "execute_result"
    }
   ],
   "source": [
    "t.values()"
   ]
  },
  {
   "cell_type": "code",
   "execution_count": 32,
   "metadata": {},
   "outputs": [
    {
     "data": {
      "text/plain": [
       "[('content', b'louvre'), ('content', b'paris')]"
      ]
     },
     "execution_count": 32,
     "metadata": {},
     "output_type": "execute_result"
    }
   ],
   "source": [
    "t.matched_terms()"
   ]
  },
  {
   "cell_type": "code",
   "execution_count": 33,
   "metadata": {},
   "outputs": [
    {
     "name": "stdout",
     "output_type": "stream",
     "text": [
      "('simpledc', '@xmlns:xsi') http://www.w3.org/2001/XMLSchema-instance\n",
      "[(('PREMIS:premis', '@xmlns:xsi'), 'http://www.w3.org/2001/XMLSchema-instance')]\n",
      "('simpledc', 'identifier', '#text') 779\n",
      "[(('PREMIS:premis', 'PREMIS:object', 'PREMIS:objectIdentifier', 'PREMIS:objectIdentifierValue'), '779'), (('PREMIS:premis', 'PREMIS:event', 'PREMIS:linkingObjectIdentifier', 'PREMIS:linkingObjectIdentifierValue'), '779')]\n",
      "('simpledc', 'format', '#text') 77 cm\n",
      "[(('PREMIS:premis', 'PREMIS:object', 'PREMIS:significantProperties', 'PREMIS:significantPropertiesValue'), '77 cm')]\n",
      "('simpledc', 'publisher', '#text') Louvre Museum\n",
      "[(('PREMIS:premis', 'PREMIS:object', 'PREMIS:storage', 'PREMIS:contentLocation', 'PREMIS:contentLocationValue'), 'Louvre Museum Paris'), (('PREMIS:premis', 'PREMIS:agent', 'PREMIS:agentName'), 'Louvre Museum Paris'), (('PREMIS:premis', 'PREMIS:object', 'PREMIS:objectIdentifier', 'PREMIS:objectIdentifierType'), 'Louvre Museum Item Number'), (('PREMIS:premis', 'PREMIS:event', 'PREMIS:linkingObjectIdentifier', 'PREMIS:linkingObjectIdentifierType'), 'Louvre Museum Item Number')]\n",
      "('simpledc', 'rights', '#text') Louvre Museum\n",
      "[(('PREMIS:premis', 'PREMIS:object', 'PREMIS:storage', 'PREMIS:contentLocation', 'PREMIS:contentLocationValue'), 'Louvre Museum Paris'), (('PREMIS:premis', 'PREMIS:agent', 'PREMIS:agentName'), 'Louvre Museum Paris'), (('PREMIS:premis', 'PREMIS:object', 'PREMIS:objectIdentifier', 'PREMIS:objectIdentifierType'), 'Louvre Museum Item Number'), (('PREMIS:premis', 'PREMIS:event', 'PREMIS:linkingObjectIdentifier', 'PREMIS:linkingObjectIdentifierType'), 'Louvre Museum Item Number')]\n"
     ]
    }
   ],
   "source": [
    "df2_val = list(doc2_flat.values())\n",
    "#print(df2_val)\n",
    "for key,val in doc1_flat.items():\n",
    "    q = qp.parse(val)\n",
    "    with ix.searcher() as searcher:\n",
    "        results = searcher.search(q, terms=True)\n",
    "        #results = s.search(\"louvre\", terms=True)\n",
    "        results = results[0:]\n",
    "        if len(results)>0:\n",
    "            print(key,val)                    \n",
    "            print([ (r.values()[1],df2_val[int(r.values()[0])]) for r in results])"
   ]
  },
  {
   "cell_type": "code",
   "execution_count": null,
   "metadata": {},
   "outputs": [],
   "source": []
  }
 ],
 "metadata": {
  "kernelspec": {
   "display_name": "Python 3",
   "language": "python",
   "name": "python3"
  },
  "language_info": {
   "codemirror_mode": {
    "name": "ipython",
    "version": 3
   },
   "file_extension": ".py",
   "mimetype": "text/x-python",
   "name": "python",
   "nbconvert_exporter": "python",
   "pygments_lexer": "ipython3",
   "version": "3.7.3"
  }
 },
 "nbformat": 4,
 "nbformat_minor": 2
}
